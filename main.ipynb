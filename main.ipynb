{
 "cells": [
  {
   "cell_type": "code",
   "execution_count": 344,
   "outputs": [],
   "source": [
    "import pandas as pd"
   ],
   "metadata": {
    "collapsed": false,
    "ExecuteTime": {
     "end_time": "2023-11-25T17:26:31.090154100Z",
     "start_time": "2023-11-25T17:26:31.056112900Z"
    }
   },
   "id": "f367d70eb3511459"
  },
  {
   "cell_type": "code",
   "execution_count": 345,
   "outputs": [],
   "source": [
    "# Nacitanie datasetu s pouzitim Pandas\n",
    "df = pd.read_csv(\"zadanie2_dataset.csv\")"
   ],
   "metadata": {
    "collapsed": false,
    "ExecuteTime": {
     "end_time": "2023-11-25T17:26:31.235791200Z",
     "start_time": "2023-11-25T17:26:31.061130800Z"
    }
   },
   "id": "initial_id"
  },
  {
   "cell_type": "code",
   "execution_count": 346,
   "outputs": [
    {
     "data": {
      "text/plain": "                 ID         Price    Prod. year  Engine volume     Cylinders  \\\ncount  1.923700e+04  1.923700e+04  19237.000000   19237.000000  19237.000000   \nmean   4.557654e+07  1.855593e+04   2010.912824       2.307990      4.582991   \nstd    9.365914e+05  1.905813e+05      5.668673       0.877805      1.199933   \nmin    2.074688e+07  1.000000e+00   1939.000000       0.000000      1.000000   \n25%    4.569837e+07  5.331000e+03   2009.000000       1.800000      4.000000   \n50%    4.577231e+07  1.317200e+04   2012.000000       2.000000      4.000000   \n75%    4.580204e+07  2.207500e+04   2015.000000       2.500000      4.000000   \nmax    4.581665e+07  2.630750e+07   2020.000000      20.000000     16.000000   \n\n            Airbags  \ncount  19237.000000  \nmean       6.582627  \nstd        4.320168  \nmin        0.000000  \n25%        4.000000  \n50%        6.000000  \n75%       12.000000  \nmax       16.000000  ",
      "text/html": "<div>\n<style scoped>\n    .dataframe tbody tr th:only-of-type {\n        vertical-align: middle;\n    }\n\n    .dataframe tbody tr th {\n        vertical-align: top;\n    }\n\n    .dataframe thead th {\n        text-align: right;\n    }\n</style>\n<table border=\"1\" class=\"dataframe\">\n  <thead>\n    <tr style=\"text-align: right;\">\n      <th></th>\n      <th>ID</th>\n      <th>Price</th>\n      <th>Prod. year</th>\n      <th>Engine volume</th>\n      <th>Cylinders</th>\n      <th>Airbags</th>\n    </tr>\n  </thead>\n  <tbody>\n    <tr>\n      <th>count</th>\n      <td>1.923700e+04</td>\n      <td>1.923700e+04</td>\n      <td>19237.000000</td>\n      <td>19237.000000</td>\n      <td>19237.000000</td>\n      <td>19237.000000</td>\n    </tr>\n    <tr>\n      <th>mean</th>\n      <td>4.557654e+07</td>\n      <td>1.855593e+04</td>\n      <td>2010.912824</td>\n      <td>2.307990</td>\n      <td>4.582991</td>\n      <td>6.582627</td>\n    </tr>\n    <tr>\n      <th>std</th>\n      <td>9.365914e+05</td>\n      <td>1.905813e+05</td>\n      <td>5.668673</td>\n      <td>0.877805</td>\n      <td>1.199933</td>\n      <td>4.320168</td>\n    </tr>\n    <tr>\n      <th>min</th>\n      <td>2.074688e+07</td>\n      <td>1.000000e+00</td>\n      <td>1939.000000</td>\n      <td>0.000000</td>\n      <td>1.000000</td>\n      <td>0.000000</td>\n    </tr>\n    <tr>\n      <th>25%</th>\n      <td>4.569837e+07</td>\n      <td>5.331000e+03</td>\n      <td>2009.000000</td>\n      <td>1.800000</td>\n      <td>4.000000</td>\n      <td>4.000000</td>\n    </tr>\n    <tr>\n      <th>50%</th>\n      <td>4.577231e+07</td>\n      <td>1.317200e+04</td>\n      <td>2012.000000</td>\n      <td>2.000000</td>\n      <td>4.000000</td>\n      <td>6.000000</td>\n    </tr>\n    <tr>\n      <th>75%</th>\n      <td>4.580204e+07</td>\n      <td>2.207500e+04</td>\n      <td>2015.000000</td>\n      <td>2.500000</td>\n      <td>4.000000</td>\n      <td>12.000000</td>\n    </tr>\n    <tr>\n      <th>max</th>\n      <td>4.581665e+07</td>\n      <td>2.630750e+07</td>\n      <td>2020.000000</td>\n      <td>20.000000</td>\n      <td>16.000000</td>\n      <td>16.000000</td>\n    </tr>\n  </tbody>\n</table>\n</div>"
     },
     "execution_count": 346,
     "metadata": {},
     "output_type": "execute_result"
    }
   ],
   "source": [
    "df.describe()"
   ],
   "metadata": {
    "collapsed": false,
    "ExecuteTime": {
     "end_time": "2023-11-25T17:26:31.236765700Z",
     "start_time": "2023-11-25T17:26:31.153934800Z"
    }
   },
   "id": "792126d8af0c62f9"
  },
  {
   "cell_type": "code",
   "execution_count": 347,
   "outputs": [
    {
     "data": {
      "text/plain": "         ID    Price  Levy Manufacturer    Model  Prod. year   Category  \\\n0  45654403  13328.0  1399        LEXUS   RX 450        2010       Jeep   \n1  44731507  16621.0  1018    CHEVROLET  Equinox        2011       Jeep   \n2  45774419   8467.0     -        HONDA      FIT        2006  Hatchback   \n3  45769185   3607.0   862         FORD   Escape        2011       Jeep   \n4  45809263  11726.0   446        HONDA      FIT        2014  Hatchback   \n\n  Leather interior Fuel type  Engine volume    Mileage  Cylinders  \\\n0              Yes    Hybrid            3.5  186005 km          6   \n1               No    Petrol            3.0  192000 km          6   \n2               No    Petrol            1.3  200000 km          4   \n3              Yes    Hybrid            2.5  168966 km          4   \n4              Yes    Petrol            1.3   91901 km          4   \n\n  Gear box type Drive wheels Doors   Color  Airbags  Turbo engine  Left wheel  \n0     Automatic          4x4   4-5  Silver       12         False        True  \n1     Tiptronic          4x4   4-5   Black        8         False        True  \n2      Variator        Front   4-5   Black        2         False       False  \n3     Automatic          4x4   4-5   White        0         False        True  \n4     Automatic        Front   4-5  Silver        4         False        True  ",
      "text/html": "<div>\n<style scoped>\n    .dataframe tbody tr th:only-of-type {\n        vertical-align: middle;\n    }\n\n    .dataframe tbody tr th {\n        vertical-align: top;\n    }\n\n    .dataframe thead th {\n        text-align: right;\n    }\n</style>\n<table border=\"1\" class=\"dataframe\">\n  <thead>\n    <tr style=\"text-align: right;\">\n      <th></th>\n      <th>ID</th>\n      <th>Price</th>\n      <th>Levy</th>\n      <th>Manufacturer</th>\n      <th>Model</th>\n      <th>Prod. year</th>\n      <th>Category</th>\n      <th>Leather interior</th>\n      <th>Fuel type</th>\n      <th>Engine volume</th>\n      <th>Mileage</th>\n      <th>Cylinders</th>\n      <th>Gear box type</th>\n      <th>Drive wheels</th>\n      <th>Doors</th>\n      <th>Color</th>\n      <th>Airbags</th>\n      <th>Turbo engine</th>\n      <th>Left wheel</th>\n    </tr>\n  </thead>\n  <tbody>\n    <tr>\n      <th>0</th>\n      <td>45654403</td>\n      <td>13328.0</td>\n      <td>1399</td>\n      <td>LEXUS</td>\n      <td>RX 450</td>\n      <td>2010</td>\n      <td>Jeep</td>\n      <td>Yes</td>\n      <td>Hybrid</td>\n      <td>3.5</td>\n      <td>186005 km</td>\n      <td>6</td>\n      <td>Automatic</td>\n      <td>4x4</td>\n      <td>4-5</td>\n      <td>Silver</td>\n      <td>12</td>\n      <td>False</td>\n      <td>True</td>\n    </tr>\n    <tr>\n      <th>1</th>\n      <td>44731507</td>\n      <td>16621.0</td>\n      <td>1018</td>\n      <td>CHEVROLET</td>\n      <td>Equinox</td>\n      <td>2011</td>\n      <td>Jeep</td>\n      <td>No</td>\n      <td>Petrol</td>\n      <td>3.0</td>\n      <td>192000 km</td>\n      <td>6</td>\n      <td>Tiptronic</td>\n      <td>4x4</td>\n      <td>4-5</td>\n      <td>Black</td>\n      <td>8</td>\n      <td>False</td>\n      <td>True</td>\n    </tr>\n    <tr>\n      <th>2</th>\n      <td>45774419</td>\n      <td>8467.0</td>\n      <td>-</td>\n      <td>HONDA</td>\n      <td>FIT</td>\n      <td>2006</td>\n      <td>Hatchback</td>\n      <td>No</td>\n      <td>Petrol</td>\n      <td>1.3</td>\n      <td>200000 km</td>\n      <td>4</td>\n      <td>Variator</td>\n      <td>Front</td>\n      <td>4-5</td>\n      <td>Black</td>\n      <td>2</td>\n      <td>False</td>\n      <td>False</td>\n    </tr>\n    <tr>\n      <th>3</th>\n      <td>45769185</td>\n      <td>3607.0</td>\n      <td>862</td>\n      <td>FORD</td>\n      <td>Escape</td>\n      <td>2011</td>\n      <td>Jeep</td>\n      <td>Yes</td>\n      <td>Hybrid</td>\n      <td>2.5</td>\n      <td>168966 km</td>\n      <td>4</td>\n      <td>Automatic</td>\n      <td>4x4</td>\n      <td>4-5</td>\n      <td>White</td>\n      <td>0</td>\n      <td>False</td>\n      <td>True</td>\n    </tr>\n    <tr>\n      <th>4</th>\n      <td>45809263</td>\n      <td>11726.0</td>\n      <td>446</td>\n      <td>HONDA</td>\n      <td>FIT</td>\n      <td>2014</td>\n      <td>Hatchback</td>\n      <td>Yes</td>\n      <td>Petrol</td>\n      <td>1.3</td>\n      <td>91901 km</td>\n      <td>4</td>\n      <td>Automatic</td>\n      <td>Front</td>\n      <td>4-5</td>\n      <td>Silver</td>\n      <td>4</td>\n      <td>False</td>\n      <td>True</td>\n    </tr>\n  </tbody>\n</table>\n</div>"
     },
     "execution_count": 347,
     "metadata": {},
     "output_type": "execute_result"
    }
   ],
   "source": [
    "df.head()"
   ],
   "metadata": {
    "collapsed": false,
    "ExecuteTime": {
     "end_time": "2023-11-25T17:26:31.237766600Z",
     "start_time": "2023-11-25T17:26:31.187619100Z"
    }
   },
   "id": "16004ea4215f7beb"
  },
  {
   "cell_type": "code",
   "execution_count": 348,
   "outputs": [],
   "source": [
    "df = df.drop(columns=['ID'])"
   ],
   "metadata": {
    "collapsed": false,
    "ExecuteTime": {
     "end_time": "2023-11-25T17:26:31.238798200Z",
     "start_time": "2023-11-25T17:26:31.214862500Z"
    }
   },
   "id": "75c63bb190aed02b"
  },
  {
   "cell_type": "code",
   "execution_count": 349,
   "outputs": [
    {
     "data": {
      "text/plain": "Index(['Price', 'Levy', 'Manufacturer', 'Model', 'Prod. year', 'Category',\n       'Leather interior', 'Fuel type', 'Engine volume', 'Mileage',\n       'Cylinders', 'Gear box type', 'Drive wheels', 'Doors', 'Color',\n       'Airbags', 'Turbo engine', 'Left wheel'],\n      dtype='object')"
     },
     "execution_count": 349,
     "metadata": {},
     "output_type": "execute_result"
    }
   ],
   "source": [
    "df.columns"
   ],
   "metadata": {
    "collapsed": false,
    "ExecuteTime": {
     "end_time": "2023-11-25T17:26:31.278804600Z",
     "start_time": "2023-11-25T17:26:31.227409500Z"
    }
   },
   "id": "49757483045d988"
  },
  {
   "cell_type": "code",
   "execution_count": 350,
   "outputs": [],
   "source": [
    "df['Price'] = pd.to_numeric(df['Price'], errors='coerce')\n",
    "df['Levy'] = pd.to_numeric(df['Levy'], errors='coerce')\n",
    "df['Engine volume'] = pd.to_numeric(df['Engine volume'], errors='coerce')\n",
    "df['Mileage'] = pd.to_numeric(df['Mileage'].str.replace(' km', '').str.replace(',', ''), errors='coerce')"
   ],
   "metadata": {
    "collapsed": false,
    "ExecuteTime": {
     "end_time": "2023-11-25T17:26:31.416546100Z",
     "start_time": "2023-11-25T17:26:31.242780900Z"
    }
   },
   "id": "a3fa7e8a504fe942"
  },
  {
   "cell_type": "code",
   "execution_count": 351,
   "outputs": [
    {
     "data": {
      "text/plain": "     Price    Levy Manufacturer    Model  Prod. year   Category  \\\n0  13328.0  1399.0        LEXUS   RX 450        2010       Jeep   \n1  16621.0  1018.0    CHEVROLET  Equinox        2011       Jeep   \n2   8467.0     NaN        HONDA      FIT        2006  Hatchback   \n3   3607.0   862.0         FORD   Escape        2011       Jeep   \n4  11726.0   446.0        HONDA      FIT        2014  Hatchback   \n\n  Leather interior Fuel type  Engine volume  Mileage  Cylinders Gear box type  \\\n0              Yes    Hybrid            3.5   186005          6     Automatic   \n1               No    Petrol            3.0   192000          6     Tiptronic   \n2               No    Petrol            1.3   200000          4      Variator   \n3              Yes    Hybrid            2.5   168966          4     Automatic   \n4              Yes    Petrol            1.3    91901          4     Automatic   \n\n  Drive wheels Doors   Color  Airbags  Turbo engine  Left wheel  \n0          4x4   4-5  Silver       12         False        True  \n1          4x4   4-5   Black        8         False        True  \n2        Front   4-5   Black        2         False       False  \n3          4x4   4-5   White        0         False        True  \n4        Front   4-5  Silver        4         False        True  ",
      "text/html": "<div>\n<style scoped>\n    .dataframe tbody tr th:only-of-type {\n        vertical-align: middle;\n    }\n\n    .dataframe tbody tr th {\n        vertical-align: top;\n    }\n\n    .dataframe thead th {\n        text-align: right;\n    }\n</style>\n<table border=\"1\" class=\"dataframe\">\n  <thead>\n    <tr style=\"text-align: right;\">\n      <th></th>\n      <th>Price</th>\n      <th>Levy</th>\n      <th>Manufacturer</th>\n      <th>Model</th>\n      <th>Prod. year</th>\n      <th>Category</th>\n      <th>Leather interior</th>\n      <th>Fuel type</th>\n      <th>Engine volume</th>\n      <th>Mileage</th>\n      <th>Cylinders</th>\n      <th>Gear box type</th>\n      <th>Drive wheels</th>\n      <th>Doors</th>\n      <th>Color</th>\n      <th>Airbags</th>\n      <th>Turbo engine</th>\n      <th>Left wheel</th>\n    </tr>\n  </thead>\n  <tbody>\n    <tr>\n      <th>0</th>\n      <td>13328.0</td>\n      <td>1399.0</td>\n      <td>LEXUS</td>\n      <td>RX 450</td>\n      <td>2010</td>\n      <td>Jeep</td>\n      <td>Yes</td>\n      <td>Hybrid</td>\n      <td>3.5</td>\n      <td>186005</td>\n      <td>6</td>\n      <td>Automatic</td>\n      <td>4x4</td>\n      <td>4-5</td>\n      <td>Silver</td>\n      <td>12</td>\n      <td>False</td>\n      <td>True</td>\n    </tr>\n    <tr>\n      <th>1</th>\n      <td>16621.0</td>\n      <td>1018.0</td>\n      <td>CHEVROLET</td>\n      <td>Equinox</td>\n      <td>2011</td>\n      <td>Jeep</td>\n      <td>No</td>\n      <td>Petrol</td>\n      <td>3.0</td>\n      <td>192000</td>\n      <td>6</td>\n      <td>Tiptronic</td>\n      <td>4x4</td>\n      <td>4-5</td>\n      <td>Black</td>\n      <td>8</td>\n      <td>False</td>\n      <td>True</td>\n    </tr>\n    <tr>\n      <th>2</th>\n      <td>8467.0</td>\n      <td>NaN</td>\n      <td>HONDA</td>\n      <td>FIT</td>\n      <td>2006</td>\n      <td>Hatchback</td>\n      <td>No</td>\n      <td>Petrol</td>\n      <td>1.3</td>\n      <td>200000</td>\n      <td>4</td>\n      <td>Variator</td>\n      <td>Front</td>\n      <td>4-5</td>\n      <td>Black</td>\n      <td>2</td>\n      <td>False</td>\n      <td>False</td>\n    </tr>\n    <tr>\n      <th>3</th>\n      <td>3607.0</td>\n      <td>862.0</td>\n      <td>FORD</td>\n      <td>Escape</td>\n      <td>2011</td>\n      <td>Jeep</td>\n      <td>Yes</td>\n      <td>Hybrid</td>\n      <td>2.5</td>\n      <td>168966</td>\n      <td>4</td>\n      <td>Automatic</td>\n      <td>4x4</td>\n      <td>4-5</td>\n      <td>White</td>\n      <td>0</td>\n      <td>False</td>\n      <td>True</td>\n    </tr>\n    <tr>\n      <th>4</th>\n      <td>11726.0</td>\n      <td>446.0</td>\n      <td>HONDA</td>\n      <td>FIT</td>\n      <td>2014</td>\n      <td>Hatchback</td>\n      <td>Yes</td>\n      <td>Petrol</td>\n      <td>1.3</td>\n      <td>91901</td>\n      <td>4</td>\n      <td>Automatic</td>\n      <td>Front</td>\n      <td>4-5</td>\n      <td>Silver</td>\n      <td>4</td>\n      <td>False</td>\n      <td>True</td>\n    </tr>\n  </tbody>\n</table>\n</div>"
     },
     "execution_count": 351,
     "metadata": {},
     "output_type": "execute_result"
    }
   ],
   "source": [
    "df.head()"
   ],
   "metadata": {
    "collapsed": false,
    "ExecuteTime": {
     "end_time": "2023-11-25T17:26:31.476544300Z",
     "start_time": "2023-11-25T17:26:31.304992600Z"
    }
   },
   "id": "9c0af8f38f997aa5"
  },
  {
   "cell_type": "code",
   "execution_count": 352,
   "outputs": [
    {
     "name": "stdout",
     "output_type": "stream",
     "text": [
      "Pocet null hodnot v datasete je: 5819\n",
      "Pocet null hodnot po odstraneni v datasete je: 0\n"
     ]
    }
   ],
   "source": [
    "print(f'Pocet null hodnot v datasete je: {df.isnull().sum().sum()}')\n",
    "\n",
    "df = df.dropna()\n",
    "\n",
    "print(f'Pocet null hodnot po odstraneni v datasete je: {df.isnull().sum().sum()}')"
   ],
   "metadata": {
    "collapsed": false,
    "ExecuteTime": {
     "end_time": "2023-11-25T17:26:31.477544100Z",
     "start_time": "2023-11-25T17:26:31.329997400Z"
    }
   },
   "id": "69787cf01df0a453"
  },
  {
   "cell_type": "code",
   "execution_count": 353,
   "outputs": [
    {
     "name": "stdout",
     "output_type": "stream",
     "text": [
      "Pocet duplikatov v datasete je: 3377\n",
      "Pocet duplikatov po odstraneni v datasete je: 0\n"
     ]
    }
   ],
   "source": [
    "print(f'Pocet duplikatov v datasete je: {df.duplicated().sum()}')\n",
    "\n",
    "df = df.drop_duplicates()\n",
    "\n",
    "print(f'Pocet duplikatov po odstraneni v datasete je: {df.duplicated().sum()}')"
   ],
   "metadata": {
    "collapsed": false,
    "ExecuteTime": {
     "end_time": "2023-11-25T17:26:31.530577300Z",
     "start_time": "2023-11-25T17:26:31.364401100Z"
    }
   },
   "id": "1c3bc0d0a74a087e"
  },
  {
   "cell_type": "code",
   "execution_count": 354,
   "outputs": [
    {
     "data": {
      "text/plain": "     Price    Levy  Manufacturer  Prod. year  Category  Leather interior  \\\n0  13328.0  1399.0  21994.758209        2010         4                 1   \n1  16621.0  1018.0  15414.667398        2011         4                 0   \n3   3607.0   862.0  18162.088586        2011         4                 1   \n4  11726.0   446.0  20476.212679        2014         3                 1   \n5  39493.0   891.0  23678.930973        2016         4                 1   \n\n   Engine volume  Mileage  Cylinders  Airbags  ...  Color_Red  Color_Silver  \\\n0            3.5   186005          6       12  ...          0             1   \n1            3.0   192000          6        8  ...          0             0   \n3            2.5   168966          4        0  ...          0             0   \n4            1.3    91901          4        4  ...          0             1   \n5            2.0   160931          4        4  ...          0             0   \n\n   Color_Sky blue  Color_White  Color_Yellow  FuelType_Diesel  \\\n0               0            0             0                0   \n1               0            0             0                0   \n3               0            1             0                0   \n4               0            0             0                0   \n5               0            1             0                1   \n\n   FuelType_Hybrid  FuelType_LPG  FuelType_Petrol  FuelType_Plug-in Hybrid  \n0                1             0                0                        0  \n1                0             0                1                        0  \n3                1             0                0                        0  \n4                0             0                1                        0  \n5                0             0                0                        0  \n\n[5 rows x 49 columns]",
      "text/html": "<div>\n<style scoped>\n    .dataframe tbody tr th:only-of-type {\n        vertical-align: middle;\n    }\n\n    .dataframe tbody tr th {\n        vertical-align: top;\n    }\n\n    .dataframe thead th {\n        text-align: right;\n    }\n</style>\n<table border=\"1\" class=\"dataframe\">\n  <thead>\n    <tr style=\"text-align: right;\">\n      <th></th>\n      <th>Price</th>\n      <th>Levy</th>\n      <th>Manufacturer</th>\n      <th>Prod. year</th>\n      <th>Category</th>\n      <th>Leather interior</th>\n      <th>Engine volume</th>\n      <th>Mileage</th>\n      <th>Cylinders</th>\n      <th>Airbags</th>\n      <th>...</th>\n      <th>Color_Red</th>\n      <th>Color_Silver</th>\n      <th>Color_Sky blue</th>\n      <th>Color_White</th>\n      <th>Color_Yellow</th>\n      <th>FuelType_Diesel</th>\n      <th>FuelType_Hybrid</th>\n      <th>FuelType_LPG</th>\n      <th>FuelType_Petrol</th>\n      <th>FuelType_Plug-in Hybrid</th>\n    </tr>\n  </thead>\n  <tbody>\n    <tr>\n      <th>0</th>\n      <td>13328.0</td>\n      <td>1399.0</td>\n      <td>21994.758209</td>\n      <td>2010</td>\n      <td>4</td>\n      <td>1</td>\n      <td>3.5</td>\n      <td>186005</td>\n      <td>6</td>\n      <td>12</td>\n      <td>...</td>\n      <td>0</td>\n      <td>1</td>\n      <td>0</td>\n      <td>0</td>\n      <td>0</td>\n      <td>0</td>\n      <td>1</td>\n      <td>0</td>\n      <td>0</td>\n      <td>0</td>\n    </tr>\n    <tr>\n      <th>1</th>\n      <td>16621.0</td>\n      <td>1018.0</td>\n      <td>15414.667398</td>\n      <td>2011</td>\n      <td>4</td>\n      <td>0</td>\n      <td>3.0</td>\n      <td>192000</td>\n      <td>6</td>\n      <td>8</td>\n      <td>...</td>\n      <td>0</td>\n      <td>0</td>\n      <td>0</td>\n      <td>0</td>\n      <td>0</td>\n      <td>0</td>\n      <td>0</td>\n      <td>0</td>\n      <td>1</td>\n      <td>0</td>\n    </tr>\n    <tr>\n      <th>3</th>\n      <td>3607.0</td>\n      <td>862.0</td>\n      <td>18162.088586</td>\n      <td>2011</td>\n      <td>4</td>\n      <td>1</td>\n      <td>2.5</td>\n      <td>168966</td>\n      <td>4</td>\n      <td>0</td>\n      <td>...</td>\n      <td>0</td>\n      <td>0</td>\n      <td>0</td>\n      <td>1</td>\n      <td>0</td>\n      <td>0</td>\n      <td>1</td>\n      <td>0</td>\n      <td>0</td>\n      <td>0</td>\n    </tr>\n    <tr>\n      <th>4</th>\n      <td>11726.0</td>\n      <td>446.0</td>\n      <td>20476.212679</td>\n      <td>2014</td>\n      <td>3</td>\n      <td>1</td>\n      <td>1.3</td>\n      <td>91901</td>\n      <td>4</td>\n      <td>4</td>\n      <td>...</td>\n      <td>0</td>\n      <td>1</td>\n      <td>0</td>\n      <td>0</td>\n      <td>0</td>\n      <td>0</td>\n      <td>0</td>\n      <td>0</td>\n      <td>1</td>\n      <td>0</td>\n    </tr>\n    <tr>\n      <th>5</th>\n      <td>39493.0</td>\n      <td>891.0</td>\n      <td>23678.930973</td>\n      <td>2016</td>\n      <td>4</td>\n      <td>1</td>\n      <td>2.0</td>\n      <td>160931</td>\n      <td>4</td>\n      <td>4</td>\n      <td>...</td>\n      <td>0</td>\n      <td>0</td>\n      <td>0</td>\n      <td>1</td>\n      <td>0</td>\n      <td>1</td>\n      <td>0</td>\n      <td>0</td>\n      <td>0</td>\n      <td>0</td>\n    </tr>\n  </tbody>\n</table>\n<p>5 rows × 49 columns</p>\n</div>"
     },
     "execution_count": 354,
     "metadata": {},
     "output_type": "execute_result"
    }
   ],
   "source": [
    "import numpy as np\n",
    "from sklearn.preprocessing import LabelEncoder\n",
    "\n",
    "le = LabelEncoder()\n",
    "\n",
    "# Label Encoding pre stlpec 'Category'\n",
    "df['Category'] = le.fit_transform(df['Category'])\n",
    "\n",
    "# Target Encodingu pre stĺpec 'Manufacturer'\n",
    "means = df.groupby('Manufacturer')['Price'].mean()\n",
    "df['Manufacturer'] = df['Manufacturer'].map(means)\n",
    "\n",
    "# One-Hot Encoding pre stĺpec 'Model'\n",
    "top_categories = df['Model'].value_counts().index[:10]  # Vyberieme top 10 hodnôt\n",
    "df['Model'] = np.where(df['Model'].isin(top_categories), df['Model'], 'Other')\n",
    "df = pd.get_dummies(df, columns=['Model'], prefix='Model', drop_first=True)\n",
    "\n",
    "# One Hot pre stlpec 'Gear box type'\n",
    "df = pd.get_dummies(df, columns=['Gear box type'], prefix='GearBox', drop_first=True)\n",
    "\n",
    "# One Hot pre stlpec 'Drive wheels'\n",
    "df = pd.get_dummies(df, columns=['Drive wheels'], prefix='DriveWheels', drop_first=True)\n",
    "\n",
    "# One Hot pre stlpec 'Doors'\n",
    "df = pd.get_dummies(df, columns=['Doors'], prefix='Doors', drop_first=True)\n",
    "\n",
    "# one hot stlpec color\n",
    "df = pd.get_dummies(df, columns=['Color'], prefix='Color', drop_first=True)\n",
    "\n",
    "\n",
    "# Zakódovanie stĺpca \"Fuel type\"\n",
    "df = pd.get_dummies(df, columns=['Fuel type'], prefix='FuelType', drop_first=True)\n",
    "\n",
    "# Zakódovanie stĺpca \"Leather interior\"\n",
    "df['Leather interior'] = df['Leather interior'].map({'Yes': 1, 'No': 0})\n",
    "\n",
    "# Zakódovanie stĺpca \"Turbo engine\"\n",
    "df['Turbo engine'] = df['Turbo engine'].map({True: 1, False: 0})\n",
    "\n",
    "# Zakódovanie stĺpca \"Left wheel\"\n",
    "df['Left wheel'] = df['Left wheel'].map({True: 1, False: 0})\n",
    "\n",
    "# pretypovanie novych stlpcov\n",
    "columns = [col for col in df.columns if col.startswith('Color_') or col.startswith('Model_') or col.startswith('GearBox_') or col.startswith('DriveWheels_') or col.startswith('Doors_') or col.startswith('FuelType_')]\n",
    "df[columns] = df[columns].astype(int)\n",
    "\n",
    "\n",
    "df.head()"
   ],
   "metadata": {
    "collapsed": false,
    "ExecuteTime": {
     "end_time": "2023-11-25T17:26:31.654580100Z",
     "start_time": "2023-11-25T17:26:31.431546500Z"
    }
   },
   "id": "6daea7b45c4c2443"
  },
  {
   "cell_type": "code",
   "execution_count": 355,
   "outputs": [],
   "source": [
    "# Odstránenie outlierov\n",
    "for col in df.columns:\n",
    "    if df[col].dtype != 'object':\n",
    "        df = df[(df[col] >= df[col].quantile(0.01)) & (df[col] <= df[col].quantile(0.99))]"
   ],
   "metadata": {
    "collapsed": false,
    "ExecuteTime": {
     "end_time": "2023-11-25T17:26:31.832503500Z",
     "start_time": "2023-11-25T17:26:31.515577100Z"
    }
   },
   "id": "724565b8fca6644f"
  },
  {
   "cell_type": "code",
   "execution_count": 356,
   "outputs": [
    {
     "data": {
      "text/plain": "Price                      float64\nLevy                       float64\nManufacturer               float64\nProd. year                   int64\nCategory                     int32\nLeather interior             int64\nEngine volume              float64\nMileage                      int64\nCylinders                    int64\nAirbags                      int64\nTurbo engine                 int64\nLeft wheel                   int64\nModel_Camry                  int32\nModel_Cruze                  int32\nModel_Elantra                int32\nModel_FIT                    int32\nModel_H1                     int32\nModel_Other                  int32\nModel_Prius                  int32\nModel_Santa FE               int32\nModel_Sonata                 int32\nModel_Tucson                 int32\nGearBox_Manual               int32\nGearBox_Tiptronic            int32\nGearBox_Variator             int32\nDriveWheels_Front            int32\nDriveWheels_Rear             int32\nDoors_4-5                    int32\nDoors_>5                     int32\nColor_Black                  int32\nColor_Blue                   int32\nColor_Brown                  int32\nColor_Carnelian red          int32\nColor_Golden                 int32\nColor_Green                  int32\nColor_Grey                   int32\nColor_Orange                 int32\nColor_Pink                   int32\nColor_Purple                 int32\nColor_Red                    int32\nColor_Silver                 int32\nColor_Sky blue               int32\nColor_White                  int32\nColor_Yellow                 int32\nFuelType_Diesel              int32\nFuelType_Hybrid              int32\nFuelType_LPG                 int32\nFuelType_Petrol              int32\nFuelType_Plug-in Hybrid      int32\ndtype: object"
     },
     "execution_count": 356,
     "metadata": {},
     "output_type": "execute_result"
    }
   ],
   "source": [
    "df.dtypes"
   ],
   "metadata": {
    "collapsed": false,
    "ExecuteTime": {
     "end_time": "2023-11-25T17:26:31.833513100Z",
     "start_time": "2023-11-25T17:26:31.730145300Z"
    }
   },
   "id": "a4dff51d46415617"
  },
  {
   "cell_type": "code",
   "execution_count": 358,
   "outputs": [],
   "source": [
    "from sklearn.model_selection import train_test_split\n",
    "from sklearn.preprocessing import StandardScaler\n",
    "\n",
    "# Rozdelenie dát na trénovaciu a testovaciu množinu\n",
    "train_data, test_data = train_test_split(df, test_size=0.2, random_state=42)\n",
    "\n",
    "# Vytvorenie vstupných a výstupných množín\n",
    "X_train = train_data.drop(columns=['Price'])  # Vstupné množiny (všetky stĺpce okrem 'Price')\n",
    "y_train = train_data['Price']  # Výstupná množina (stĺpec 'Price')\n",
    "\n",
    "X_test = test_data.drop(columns=['Price'])\n",
    "y_test = test_data['Price']\n",
    "\n",
    "# Normalizácia\n",
    "scaler = StandardScaler()\n",
    "X_train_normalized = scaler.fit_transform(X_train)\n",
    "X_test_normalized = scaler.transform(X_test)\n"
   ],
   "metadata": {
    "collapsed": false,
    "ExecuteTime": {
     "end_time": "2023-11-25T17:26:37.256130400Z",
     "start_time": "2023-11-25T17:26:37.205223700Z"
    }
   },
   "id": "5ee08b0cfc75f7a4"
  },
  {
   "cell_type": "code",
   "execution_count": null,
   "outputs": [],
   "source": [],
   "metadata": {
    "collapsed": false
   },
   "id": "17bf9fb1003fee49"
  }
 ],
 "metadata": {
  "kernelspec": {
   "display_name": "Python 3",
   "language": "python",
   "name": "python3"
  },
  "language_info": {
   "codemirror_mode": {
    "name": "ipython",
    "version": 2
   },
   "file_extension": ".py",
   "mimetype": "text/x-python",
   "name": "python",
   "nbconvert_exporter": "python",
   "pygments_lexer": "ipython2",
   "version": "2.7.6"
  }
 },
 "nbformat": 4,
 "nbformat_minor": 5
}
